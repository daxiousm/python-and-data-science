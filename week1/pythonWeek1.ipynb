{
 "cells": [
  {
   "cell_type": "markdown",
   "metadata": {},
   "source": [
    "1. Write a python script to print your name and age"
   ]
  },
  {
   "cell_type": "code",
   "execution_count": null,
   "metadata": {},
   "outputs": [],
   "source": [
    "a = input(\"Name\")\n",
    "\n",
    "b = int(input(\"Age\"))\n",
    "\n",
    "print(\"Your name is : \", a, \" Your age is : \", b)\n",
    "\n"
   ]
  },
  {
   "cell_type": "markdown",
   "metadata": {},
   "source": [
    "2. Create a list of your 5 favorite movies and store it in the variable"
   ]
  },
  {
   "cell_type": "code",
   "execution_count": null,
   "metadata": {},
   "outputs": [],
   "source": [
    "favorite_movies = ['Bourne triology','Good will hunting','James bond','mission impossible','the wire']"
   ]
  },
  {
   "cell_type": "markdown",
   "metadata": {},
   "source": [
    "3. Write a Python program to display the first and last colors from the following list. \n",
    "color_list = [\"Red\",\"Green\",\"White\" ,\"Black\"]"
   ]
  },
  {
   "cell_type": "code",
   "execution_count": null,
   "metadata": {},
   "outputs": [],
   "source": [
    "color_list = [\"Red\",\"Green\",\"White\" ,\"Black\"]\n",
    " \n",
    "print(color_list[0],color_list[-1])\n"
   ]
  },
  {
   "cell_type": "markdown",
   "metadata": {},
   "source": [
    "4. Write a Python script to add a key to a dictionary\n",
    "Sample Dictionary : {0: 10, 1: 20}\n",
    "Expected Result : {0: 10, 1: 20, 2: 30}\n"
   ]
  },
  {
   "cell_type": "code",
   "execution_count": null,
   "metadata": {},
   "outputs": [],
   "source": [
    "sample_dictionary = {0:10, 1:20}\n",
    "print(sample_dictionary)\n",
    "sample_dictionary.update({2:30})\n",
    "print(sample_dictionary)"
   ]
  },
  {
   "cell_type": "markdown",
   "metadata": {},
   "source": [
    "5. Write a Python program to calculate body mass index."
   ]
  },
  {
   "cell_type": "code",
   "execution_count": null,
   "metadata": {},
   "outputs": [],
   "source": [
    "height = float(input(\"Enter height in meters: \"))\n",
    "weight = float(input(\"Enter weight in kg: \"))\n",
    "\n",
    "# the formula for calculating bmi\n",
    "\n",
    "bmi = weight/(height**2) \n",
    "\n",
    "\n",
    "print(\"Your BMI is: {0} and you are: \".format(bmi), end='')\n",
    "\n"
   ]
  },
  {
   "cell_type": "markdown",
   "metadata": {},
   "source": [
    "6. Guess a number game - between 1 to 9."
   ]
  },
  {
   "cell_type": "code",
   "execution_count": null,
   "metadata": {},
   "outputs": [],
   "source": [
    "\n",
    "import random\n",
    "\n",
    "a=int(input(\"enter a number\")) \n",
    "\n",
    "b= random.randint(1, 10)\n",
    "\n",
    "while a!= b:\n",
    "\n",
    "    b= int(input('Guess a number between 1 to 10 '))\n",
    "\n",
    "print('Well guessed!')\n"
   ]
  },
  {
   "cell_type": "markdown",
   "metadata": {},
   "source": [
    "7. Create a tuple with different data types"
   ]
  },
  {
   "cell_type": "code",
   "execution_count": null,
   "metadata": {},
   "outputs": [],
   "source": [
    "different_data=(\"data types\", True, 10.2, 7)\n",
    "print(different_data)"
   ]
  },
  {
   "cell_type": "markdown",
   "metadata": {},
   "source": [
    "8.Create a list of 5 city names and convert it into tuples."
   ]
  },
  {
   "cell_type": "code",
   "execution_count": null,
   "metadata": {},
   "outputs": [],
   "source": [
    "city-names = ('Addis Ababa','Lisbon','London','Paris','Seychelles')\n",
    "sample-city = list(city_names)\n",
    "city-names = tuple(sample-city)\n"
   ]
  },
  {
   "cell_type": "markdown",
   "metadata": {},
   "source": [
    "9. Remove duplicated from the list:\n",
    "   a = [10,20,30,20,10,50,60,40,80,50,40] and store the values in the same list.\n",
    "   "
   ]
  },
  {
   "cell_type": "code",
   "execution_count": null,
   "metadata": {},
   "outputs": [],
   "source": [
    "list_with_duplicates = [10,20,30,20,10,50,60,40,80,50,40]\n",
    "list_without_duplicates = list(set(list_with_duplicates))\n",
    "print(list_without_duplicates)"
   ]
  },
  {
   "cell_type": "markdown",
   "metadata": {},
   "source": [
    "10. Accept a string from user and remove the characters which have odd index values of a given string and print them."
   ]
  },
  {
   "cell_type": "code",
   "execution_count": null,
   "metadata": {},
   "outputs": [],
   "source": [
    "insert_chr = input()\n",
    "\n",
    "new_chr = \"\"\n",
    "\n",
    "for i in range(len(insert_chr)):\n",
    "\n",
    "    if i%2==0:\n",
    "\n",
    "        new_chr = new_chr+insert_chr[i]\n",
    "\n",
    "print(new_chr)"
   ]
  },
  {
   "cell_type": "code",
   "execution_count": null,
   "metadata": {},
   "outputs": [],
   "source": []
  }
 ],
 "metadata": {
  "kernelspec": {
   "display_name": "Python 3",
   "language": "python",
   "name": "python3"
  },
  "language_info": {
   "codemirror_mode": {
    "name": "ipython",
    "version": 3
   },
   "file_extension": ".py",
   "mimetype": "text/x-python",
   "name": "python",
   "nbconvert_exporter": "python",
   "pygments_lexer": "ipython3",
   "version": "3.8.5"
  }
 },
 "nbformat": 4,
 "nbformat_minor": 4
}
